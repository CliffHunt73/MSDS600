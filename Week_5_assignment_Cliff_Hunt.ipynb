{
 "cells": [
  {
   "cell_type": "markdown",
   "id": "165166dd",
   "metadata": {},
   "source": [
    "# DS Automation Assignment"
   ]
  },
  {
   "cell_type": "markdown",
   "id": "c195af74",
   "metadata": {},
   "source": [
    "Using our prepared churn data from week 2:\n",
    "- use pycaret to find an ML algorithm that performs best on the data\n",
    "    - Choose a metric you think is best to use for finding the best model; by default, it is accuracy but it could be AUC, precision, recall, etc. The week 3 FTE has some information on these different metrics.\n",
    "- save the model to disk\n",
    "- create a Python script/file/module with a function that takes a pandas dataframe as an input and returns the probability of churn for each row in the dataframe\n",
    "    - your Python file/function should print out the predictions for new data (new_churn_data.csv)\n",
    "    - the true values for the new data are [1, 0, 0, 1, 0] if you're interested\n",
    "- test your Python module and function with the new data, new_churn_data.csv\n",
    "- write a short summary of the process and results at the end of this notebook\n",
    "- upload this Jupyter Notebook and Python file to a Github repository, and turn in a link to the repository in the week 5 assignment dropbox\n",
    "\n",
    "*Optional* challenges:\n",
    "- return the probability of churn for each new prediction, and the percentile where that prediction is in the distribution of probability predictions from the training dataset (e.g. a high probability of churn like 0.78 might be at the 90th percentile)\n",
    "- use other autoML packages, such as TPOT, H2O, MLBox, etc, and compare performance and features with pycaret\n",
    "- create a class in your Python module to hold the functions that you created\n",
    "- accept user input to specify a file using a tool such as Python's `input()` function, the `click` package for command-line arguments, or a GUI\n",
    "- Use the unmodified churn data (new_unmodified_churn_data.csv) in your Python script. This will require adding the same preprocessing steps from week 2 since this data is like the original unmodified dataset from week 1."
   ]
  },
  {
   "cell_type": "markdown",
   "id": "52049a2d",
   "metadata": {},
   "source": [
    "First step is importing Pandas and the data to be analyzed.  This week I learned the importance of importing the data with the customer ID as the index column."
   ]
  },
  {
   "cell_type": "code",
   "execution_count": 5,
   "id": "476ed965",
   "metadata": {},
   "outputs": [
    {
     "data": {
      "text/html": [
       "<div>\n",
       "<style scoped>\n",
       "    .dataframe tbody tr th:only-of-type {\n",
       "        vertical-align: middle;\n",
       "    }\n",
       "\n",
       "    .dataframe tbody tr th {\n",
       "        vertical-align: top;\n",
       "    }\n",
       "\n",
       "    .dataframe thead th {\n",
       "        text-align: right;\n",
       "    }\n",
       "</style>\n",
       "<table border=\"1\" class=\"dataframe\">\n",
       "  <thead>\n",
       "    <tr style=\"text-align: right;\">\n",
       "      <th></th>\n",
       "      <th>tenure</th>\n",
       "      <th>PhoneService</th>\n",
       "      <th>Contract</th>\n",
       "      <th>PaymentMethod</th>\n",
       "      <th>MonthlyCharges</th>\n",
       "      <th>TotalCharges</th>\n",
       "      <th>Churn</th>\n",
       "    </tr>\n",
       "    <tr>\n",
       "      <th>customerID</th>\n",
       "      <th></th>\n",
       "      <th></th>\n",
       "      <th></th>\n",
       "      <th></th>\n",
       "      <th></th>\n",
       "      <th></th>\n",
       "      <th></th>\n",
       "    </tr>\n",
       "  </thead>\n",
       "  <tbody>\n",
       "    <tr>\n",
       "      <th>7590-VHVEG</th>\n",
       "      <td>1</td>\n",
       "      <td>0</td>\n",
       "      <td>1</td>\n",
       "      <td>1</td>\n",
       "      <td>29.85</td>\n",
       "      <td>29.85</td>\n",
       "      <td>0</td>\n",
       "    </tr>\n",
       "    <tr>\n",
       "      <th>5575-GNVDE</th>\n",
       "      <td>34</td>\n",
       "      <td>1</td>\n",
       "      <td>12</td>\n",
       "      <td>2</td>\n",
       "      <td>56.95</td>\n",
       "      <td>1889.50</td>\n",
       "      <td>0</td>\n",
       "    </tr>\n",
       "    <tr>\n",
       "      <th>3668-QPYBK</th>\n",
       "      <td>2</td>\n",
       "      <td>1</td>\n",
       "      <td>1</td>\n",
       "      <td>2</td>\n",
       "      <td>53.85</td>\n",
       "      <td>108.15</td>\n",
       "      <td>1</td>\n",
       "    </tr>\n",
       "    <tr>\n",
       "      <th>7795-CFOCW</th>\n",
       "      <td>45</td>\n",
       "      <td>0</td>\n",
       "      <td>12</td>\n",
       "      <td>3</td>\n",
       "      <td>42.30</td>\n",
       "      <td>1840.75</td>\n",
       "      <td>0</td>\n",
       "    </tr>\n",
       "    <tr>\n",
       "      <th>9237-HQITU</th>\n",
       "      <td>2</td>\n",
       "      <td>1</td>\n",
       "      <td>1</td>\n",
       "      <td>1</td>\n",
       "      <td>70.70</td>\n",
       "      <td>151.65</td>\n",
       "      <td>1</td>\n",
       "    </tr>\n",
       "    <tr>\n",
       "      <th>9305-CDSKC</th>\n",
       "      <td>8</td>\n",
       "      <td>1</td>\n",
       "      <td>1</td>\n",
       "      <td>1</td>\n",
       "      <td>99.65</td>\n",
       "      <td>820.50</td>\n",
       "      <td>1</td>\n",
       "    </tr>\n",
       "    <tr>\n",
       "      <th>1452-KIOVK</th>\n",
       "      <td>22</td>\n",
       "      <td>1</td>\n",
       "      <td>1</td>\n",
       "      <td>4</td>\n",
       "      <td>89.10</td>\n",
       "      <td>1949.40</td>\n",
       "      <td>0</td>\n",
       "    </tr>\n",
       "    <tr>\n",
       "      <th>6713-OKOMC</th>\n",
       "      <td>10</td>\n",
       "      <td>0</td>\n",
       "      <td>1</td>\n",
       "      <td>2</td>\n",
       "      <td>29.75</td>\n",
       "      <td>301.90</td>\n",
       "      <td>0</td>\n",
       "    </tr>\n",
       "    <tr>\n",
       "      <th>7892-POOKP</th>\n",
       "      <td>28</td>\n",
       "      <td>1</td>\n",
       "      <td>1</td>\n",
       "      <td>1</td>\n",
       "      <td>104.80</td>\n",
       "      <td>3046.05</td>\n",
       "      <td>1</td>\n",
       "    </tr>\n",
       "    <tr>\n",
       "      <th>6388-TABGU</th>\n",
       "      <td>62</td>\n",
       "      <td>1</td>\n",
       "      <td>12</td>\n",
       "      <td>3</td>\n",
       "      <td>56.15</td>\n",
       "      <td>3487.95</td>\n",
       "      <td>0</td>\n",
       "    </tr>\n",
       "  </tbody>\n",
       "</table>\n",
       "</div>"
      ],
      "text/plain": [
       "            tenure  PhoneService  Contract  PaymentMethod  MonthlyCharges  \\\n",
       "customerID                                                                  \n",
       "7590-VHVEG       1             0         1              1           29.85   \n",
       "5575-GNVDE      34             1        12              2           56.95   \n",
       "3668-QPYBK       2             1         1              2           53.85   \n",
       "7795-CFOCW      45             0        12              3           42.30   \n",
       "9237-HQITU       2             1         1              1           70.70   \n",
       "9305-CDSKC       8             1         1              1           99.65   \n",
       "1452-KIOVK      22             1         1              4           89.10   \n",
       "6713-OKOMC      10             0         1              2           29.75   \n",
       "7892-POOKP      28             1         1              1          104.80   \n",
       "6388-TABGU      62             1        12              3           56.15   \n",
       "\n",
       "            TotalCharges  Churn  \n",
       "customerID                       \n",
       "7590-VHVEG         29.85      0  \n",
       "5575-GNVDE       1889.50      0  \n",
       "3668-QPYBK        108.15      1  \n",
       "7795-CFOCW       1840.75      0  \n",
       "9237-HQITU        151.65      1  \n",
       "9305-CDSKC        820.50      1  \n",
       "1452-KIOVK       1949.40      0  \n",
       "6713-OKOMC        301.90      0  \n",
       "7892-POOKP       3046.05      1  \n",
       "6388-TABGU       3487.95      0  "
      ]
     },
     "execution_count": 5,
     "metadata": {},
     "output_type": "execute_result"
    }
   ],
   "source": [
    "import pandas as pd\n",
    "\n",
    "df = pd.read_csv('C://Users//cliff//Downloads//prepped_Churn_data.csv', index_col='customerID')\n",
    "df.head(10)"
   ]
  },
  {
   "cell_type": "markdown",
   "id": "39ee08a5",
   "metadata": {},
   "source": [
    "Next set up and choose the correct kernel on which to run Pycaret.  "
   ]
  },
  {
   "cell_type": "code",
   "execution_count": 205,
   "id": "1e375316",
   "metadata": {},
   "outputs": [
    {
     "name": "stdout",
     "output_type": "stream",
     "text": [
      "Available kernels:\n",
      "  python3    C:\\Users\\cliff\\anaconda3\\envs\\Py3_10\\share\\jupyter\\kernels\\python3\n",
      "  py3_10     C:\\Users\\cliff\\AppData\\Roaming\\jupyter\\kernels\\py3_10\n"
     ]
    }
   ],
   "source": [
    "!jupyter kernelspec list"
   ]
  },
  {
   "cell_type": "code",
   "execution_count": 6,
   "id": "edd7a2b4",
   "metadata": {},
   "outputs": [
    {
     "name": "stdout",
     "output_type": "stream",
     "text": [
      "<class 'pandas.core.frame.DataFrame'>\n",
      "Index: 7032 entries, 7590-VHVEG to 3186-AJIEK\n",
      "Data columns (total 7 columns):\n",
      " #   Column          Non-Null Count  Dtype  \n",
      "---  ------          --------------  -----  \n",
      " 0   tenure          7032 non-null   int64  \n",
      " 1   PhoneService    7032 non-null   int64  \n",
      " 2   Contract        7032 non-null   int64  \n",
      " 3   PaymentMethod   7032 non-null   int64  \n",
      " 4   MonthlyCharges  7032 non-null   float64\n",
      " 5   TotalCharges    7032 non-null   float64\n",
      " 6   Churn           7032 non-null   int64  \n",
      "dtypes: float64(2), int64(5)\n",
      "memory usage: 439.5+ KB\n"
     ]
    }
   ],
   "source": [
    "\n",
    "df.info()"
   ]
  },
  {
   "cell_type": "markdown",
   "id": "5b79a45c",
   "metadata": {},
   "source": [
    "Next step is importing Pycaret.  Full Disclosure:  I could not get it to run on Jupyter Notebooks or Jupyter labs so I had to break down and download Visual Studio and it ran on that which turns out to be pretty great."
   ]
  },
  {
   "cell_type": "code",
   "execution_count": 9,
   "id": "8929af48",
   "metadata": {},
   "outputs": [],
   "source": [
    "from pycaret.classification import ClassificationExperiment #setup, compare_models, predict_model, save_model, load_model"
   ]
  },
  {
   "cell_type": "code",
   "execution_count": 10,
   "id": "970078de",
   "metadata": {},
   "outputs": [],
   "source": [
    "automl = ClassificationExperiment()"
   ]
  },
  {
   "cell_type": "code",
   "execution_count": 11,
   "id": "72541554",
   "metadata": {},
   "outputs": [
    {
     "data": {
      "text/html": [
       "<style type=\"text/css\">\n",
       "#T_58ad9_row8_col1 {\n",
       "  background-color: lightgreen;\n",
       "}\n",
       "</style>\n",
       "<table id=\"T_58ad9\">\n",
       "  <thead>\n",
       "    <tr>\n",
       "      <th class=\"blank level0\" >&nbsp;</th>\n",
       "      <th id=\"T_58ad9_level0_col0\" class=\"col_heading level0 col0\" >Description</th>\n",
       "      <th id=\"T_58ad9_level0_col1\" class=\"col_heading level0 col1\" >Value</th>\n",
       "    </tr>\n",
       "  </thead>\n",
       "  <tbody>\n",
       "    <tr>\n",
       "      <th id=\"T_58ad9_level0_row0\" class=\"row_heading level0 row0\" >0</th>\n",
       "      <td id=\"T_58ad9_row0_col0\" class=\"data row0 col0\" >Session id</td>\n",
       "      <td id=\"T_58ad9_row0_col1\" class=\"data row0 col1\" >1678</td>\n",
       "    </tr>\n",
       "    <tr>\n",
       "      <th id=\"T_58ad9_level0_row1\" class=\"row_heading level0 row1\" >1</th>\n",
       "      <td id=\"T_58ad9_row1_col0\" class=\"data row1 col0\" >Target</td>\n",
       "      <td id=\"T_58ad9_row1_col1\" class=\"data row1 col1\" >Churn</td>\n",
       "    </tr>\n",
       "    <tr>\n",
       "      <th id=\"T_58ad9_level0_row2\" class=\"row_heading level0 row2\" >2</th>\n",
       "      <td id=\"T_58ad9_row2_col0\" class=\"data row2 col0\" >Target type</td>\n",
       "      <td id=\"T_58ad9_row2_col1\" class=\"data row2 col1\" >Binary</td>\n",
       "    </tr>\n",
       "    <tr>\n",
       "      <th id=\"T_58ad9_level0_row3\" class=\"row_heading level0 row3\" >3</th>\n",
       "      <td id=\"T_58ad9_row3_col0\" class=\"data row3 col0\" >Original data shape</td>\n",
       "      <td id=\"T_58ad9_row3_col1\" class=\"data row3 col1\" >(7032, 7)</td>\n",
       "    </tr>\n",
       "    <tr>\n",
       "      <th id=\"T_58ad9_level0_row4\" class=\"row_heading level0 row4\" >4</th>\n",
       "      <td id=\"T_58ad9_row4_col0\" class=\"data row4 col0\" >Transformed data shape</td>\n",
       "      <td id=\"T_58ad9_row4_col1\" class=\"data row4 col1\" >(7032, 7)</td>\n",
       "    </tr>\n",
       "    <tr>\n",
       "      <th id=\"T_58ad9_level0_row5\" class=\"row_heading level0 row5\" >5</th>\n",
       "      <td id=\"T_58ad9_row5_col0\" class=\"data row5 col0\" >Transformed train set shape</td>\n",
       "      <td id=\"T_58ad9_row5_col1\" class=\"data row5 col1\" >(4922, 7)</td>\n",
       "    </tr>\n",
       "    <tr>\n",
       "      <th id=\"T_58ad9_level0_row6\" class=\"row_heading level0 row6\" >6</th>\n",
       "      <td id=\"T_58ad9_row6_col0\" class=\"data row6 col0\" >Transformed test set shape</td>\n",
       "      <td id=\"T_58ad9_row6_col1\" class=\"data row6 col1\" >(2110, 7)</td>\n",
       "    </tr>\n",
       "    <tr>\n",
       "      <th id=\"T_58ad9_level0_row7\" class=\"row_heading level0 row7\" >7</th>\n",
       "      <td id=\"T_58ad9_row7_col0\" class=\"data row7 col0\" >Numeric features</td>\n",
       "      <td id=\"T_58ad9_row7_col1\" class=\"data row7 col1\" >6</td>\n",
       "    </tr>\n",
       "    <tr>\n",
       "      <th id=\"T_58ad9_level0_row8\" class=\"row_heading level0 row8\" >8</th>\n",
       "      <td id=\"T_58ad9_row8_col0\" class=\"data row8 col0\" >Preprocess</td>\n",
       "      <td id=\"T_58ad9_row8_col1\" class=\"data row8 col1\" >True</td>\n",
       "    </tr>\n",
       "    <tr>\n",
       "      <th id=\"T_58ad9_level0_row9\" class=\"row_heading level0 row9\" >9</th>\n",
       "      <td id=\"T_58ad9_row9_col0\" class=\"data row9 col0\" >Imputation type</td>\n",
       "      <td id=\"T_58ad9_row9_col1\" class=\"data row9 col1\" >simple</td>\n",
       "    </tr>\n",
       "    <tr>\n",
       "      <th id=\"T_58ad9_level0_row10\" class=\"row_heading level0 row10\" >10</th>\n",
       "      <td id=\"T_58ad9_row10_col0\" class=\"data row10 col0\" >Numeric imputation</td>\n",
       "      <td id=\"T_58ad9_row10_col1\" class=\"data row10 col1\" >mean</td>\n",
       "    </tr>\n",
       "    <tr>\n",
       "      <th id=\"T_58ad9_level0_row11\" class=\"row_heading level0 row11\" >11</th>\n",
       "      <td id=\"T_58ad9_row11_col0\" class=\"data row11 col0\" >Categorical imputation</td>\n",
       "      <td id=\"T_58ad9_row11_col1\" class=\"data row11 col1\" >mode</td>\n",
       "    </tr>\n",
       "    <tr>\n",
       "      <th id=\"T_58ad9_level0_row12\" class=\"row_heading level0 row12\" >12</th>\n",
       "      <td id=\"T_58ad9_row12_col0\" class=\"data row12 col0\" >Fold Generator</td>\n",
       "      <td id=\"T_58ad9_row12_col1\" class=\"data row12 col1\" >StratifiedKFold</td>\n",
       "    </tr>\n",
       "    <tr>\n",
       "      <th id=\"T_58ad9_level0_row13\" class=\"row_heading level0 row13\" >13</th>\n",
       "      <td id=\"T_58ad9_row13_col0\" class=\"data row13 col0\" >Fold Number</td>\n",
       "      <td id=\"T_58ad9_row13_col1\" class=\"data row13 col1\" >10</td>\n",
       "    </tr>\n",
       "    <tr>\n",
       "      <th id=\"T_58ad9_level0_row14\" class=\"row_heading level0 row14\" >14</th>\n",
       "      <td id=\"T_58ad9_row14_col0\" class=\"data row14 col0\" >CPU Jobs</td>\n",
       "      <td id=\"T_58ad9_row14_col1\" class=\"data row14 col1\" >-1</td>\n",
       "    </tr>\n",
       "    <tr>\n",
       "      <th id=\"T_58ad9_level0_row15\" class=\"row_heading level0 row15\" >15</th>\n",
       "      <td id=\"T_58ad9_row15_col0\" class=\"data row15 col0\" >Use GPU</td>\n",
       "      <td id=\"T_58ad9_row15_col1\" class=\"data row15 col1\" >False</td>\n",
       "    </tr>\n",
       "    <tr>\n",
       "      <th id=\"T_58ad9_level0_row16\" class=\"row_heading level0 row16\" >16</th>\n",
       "      <td id=\"T_58ad9_row16_col0\" class=\"data row16 col0\" >Log Experiment</td>\n",
       "      <td id=\"T_58ad9_row16_col1\" class=\"data row16 col1\" >False</td>\n",
       "    </tr>\n",
       "    <tr>\n",
       "      <th id=\"T_58ad9_level0_row17\" class=\"row_heading level0 row17\" >17</th>\n",
       "      <td id=\"T_58ad9_row17_col0\" class=\"data row17 col0\" >Experiment Name</td>\n",
       "      <td id=\"T_58ad9_row17_col1\" class=\"data row17 col1\" >clf-default-name</td>\n",
       "    </tr>\n",
       "    <tr>\n",
       "      <th id=\"T_58ad9_level0_row18\" class=\"row_heading level0 row18\" >18</th>\n",
       "      <td id=\"T_58ad9_row18_col0\" class=\"data row18 col0\" >USI</td>\n",
       "      <td id=\"T_58ad9_row18_col1\" class=\"data row18 col1\" >d472</td>\n",
       "    </tr>\n",
       "  </tbody>\n",
       "</table>\n"
      ],
      "text/plain": [
       "<pandas.io.formats.style.Styler at 0x19cf0bf0160>"
      ]
     },
     "metadata": {},
     "output_type": "display_data"
    },
    {
     "data": {
      "text/plain": [
       "<pycaret.classification.oop.ClassificationExperiment at 0x19cd194f670>"
      ]
     },
     "execution_count": 11,
     "metadata": {},
     "output_type": "execute_result"
    }
   ],
   "source": [
    "automl.setup(df, target='Churn')"
   ]
  },
  {
   "cell_type": "code",
   "execution_count": 12,
   "id": "b103bef0",
   "metadata": {},
   "outputs": [
    {
     "data": {
      "text/plain": [
       "<pycaret.classification.oop.ClassificationExperiment at 0x19cd194f670>"
      ]
     },
     "execution_count": 12,
     "metadata": {},
     "output_type": "execute_result"
    }
   ],
   "source": [
    "automl"
   ]
  },
  {
   "cell_type": "markdown",
   "id": "dda16b8b",
   "metadata": {},
   "source": [
    "Below the best model for accuracy is found to be the Logistic Regression Model with an accuracy of 79.48%.  Normally I would probably keep going with the best accuracy but since the Logistical Regression method was found to be around 79% in a previous weekly assignment I'll go with the AUC value.  According to the best model comparison function results below the best AUC value was found using the Gradient Boosting Classifier at 84%."
   ]
  },
  {
   "cell_type": "code",
   "execution_count": 13,
   "id": "cd9c3ab1",
   "metadata": {},
   "outputs": [
    {
     "data": {
      "text/html": [],
      "text/plain": [
       "<IPython.core.display.HTML object>"
      ]
     },
     "metadata": {},
     "output_type": "display_data"
    },
    {
     "data": {
      "text/html": [
       "<div>\n",
       "<style scoped>\n",
       "    .dataframe tbody tr th:only-of-type {\n",
       "        vertical-align: middle;\n",
       "    }\n",
       "\n",
       "    .dataframe tbody tr th {\n",
       "        vertical-align: top;\n",
       "    }\n",
       "\n",
       "    .dataframe thead th {\n",
       "        text-align: right;\n",
       "    }\n",
       "</style>\n",
       "<table border=\"1\" class=\"dataframe\">\n",
       "  <thead>\n",
       "    <tr style=\"text-align: right;\">\n",
       "      <th></th>\n",
       "      <th>Model</th>\n",
       "      <th>Accuracy</th>\n",
       "      <th>AUC</th>\n",
       "      <th>Recall</th>\n",
       "      <th>Prec.</th>\n",
       "      <th>F1</th>\n",
       "      <th>Kappa</th>\n",
       "      <th>MCC</th>\n",
       "      <th>TT (Sec)</th>\n",
       "    </tr>\n",
       "  </thead>\n",
       "  <tbody>\n",
       "  </tbody>\n",
       "</table>\n",
       "</div>"
      ],
      "text/plain": [
       "Empty DataFrame\n",
       "Columns: [Model, Accuracy, AUC, Recall, Prec., F1, Kappa, MCC, TT (Sec)]\n",
       "Index: []"
      ]
     },
     "metadata": {},
     "output_type": "display_data"
    },
    {
     "data": {
      "text/html": [],
      "text/plain": [
       "<IPython.core.display.HTML object>"
      ]
     },
     "metadata": {},
     "output_type": "display_data"
    }
   ],
   "source": [
    "best_model = automl.compare_models()"
   ]
  },
  {
   "cell_type": "code",
   "execution_count": 14,
   "id": "ddac56f5",
   "metadata": {},
   "outputs": [
    {
     "data": {
      "text/html": [],
      "text/plain": [
       "<IPython.core.display.HTML object>"
      ]
     },
     "metadata": {},
     "output_type": "display_data"
    },
    {
     "data": {
      "text/html": [
       "<style type=\"text/css\">\n",
       "#T_0cb09 th {\n",
       "  text-align: left;\n",
       "}\n",
       "#T_0cb09_row0_col0, #T_0cb09_row0_col1, #T_0cb09_row0_col3, #T_0cb09_row0_col4, #T_0cb09_row0_col5, #T_0cb09_row0_col6, #T_0cb09_row0_col7, #T_0cb09_row1_col0, #T_0cb09_row1_col1, #T_0cb09_row1_col2, #T_0cb09_row1_col3, #T_0cb09_row1_col4, #T_0cb09_row1_col5, #T_0cb09_row1_col6, #T_0cb09_row1_col7, #T_0cb09_row2_col0, #T_0cb09_row2_col2, #T_0cb09_row2_col3, #T_0cb09_row2_col4, #T_0cb09_row2_col5, #T_0cb09_row2_col7, #T_0cb09_row3_col0, #T_0cb09_row3_col1, #T_0cb09_row3_col2, #T_0cb09_row3_col3, #T_0cb09_row3_col4, #T_0cb09_row3_col6, #T_0cb09_row4_col0, #T_0cb09_row4_col1, #T_0cb09_row4_col2, #T_0cb09_row4_col3, #T_0cb09_row4_col4, #T_0cb09_row4_col5, #T_0cb09_row4_col6, #T_0cb09_row4_col7, #T_0cb09_row5_col0, #T_0cb09_row5_col1, #T_0cb09_row5_col2, #T_0cb09_row5_col3, #T_0cb09_row5_col4, #T_0cb09_row5_col5, #T_0cb09_row5_col6, #T_0cb09_row5_col7, #T_0cb09_row6_col0, #T_0cb09_row6_col1, #T_0cb09_row6_col2, #T_0cb09_row6_col4, #T_0cb09_row6_col5, #T_0cb09_row6_col6, #T_0cb09_row6_col7, #T_0cb09_row7_col0, #T_0cb09_row7_col1, #T_0cb09_row7_col2, #T_0cb09_row7_col3, #T_0cb09_row7_col4, #T_0cb09_row7_col5, #T_0cb09_row7_col6, #T_0cb09_row7_col7, #T_0cb09_row8_col0, #T_0cb09_row8_col1, #T_0cb09_row8_col2, #T_0cb09_row8_col3, #T_0cb09_row8_col4, #T_0cb09_row8_col5, #T_0cb09_row8_col6, #T_0cb09_row8_col7, #T_0cb09_row9_col0, #T_0cb09_row9_col1, #T_0cb09_row9_col2, #T_0cb09_row9_col3, #T_0cb09_row9_col4, #T_0cb09_row9_col5, #T_0cb09_row9_col6, #T_0cb09_row9_col7, #T_0cb09_row10_col0, #T_0cb09_row10_col1, #T_0cb09_row10_col2, #T_0cb09_row10_col3, #T_0cb09_row10_col4, #T_0cb09_row10_col5, #T_0cb09_row10_col6, #T_0cb09_row10_col7, #T_0cb09_row11_col0, #T_0cb09_row11_col1, #T_0cb09_row11_col2, #T_0cb09_row11_col3, #T_0cb09_row11_col4, #T_0cb09_row11_col5, #T_0cb09_row11_col6, #T_0cb09_row11_col7, #T_0cb09_row12_col0, #T_0cb09_row12_col1, #T_0cb09_row12_col2, #T_0cb09_row12_col3, #T_0cb09_row12_col4, #T_0cb09_row12_col5, #T_0cb09_row12_col6, #T_0cb09_row12_col7, #T_0cb09_row13_col0, #T_0cb09_row13_col1, #T_0cb09_row13_col2, #T_0cb09_row13_col3, #T_0cb09_row13_col5, #T_0cb09_row13_col6, #T_0cb09_row13_col7 {\n",
       "  text-align: left;\n",
       "}\n",
       "#T_0cb09_row0_col2, #T_0cb09_row2_col1, #T_0cb09_row2_col6, #T_0cb09_row3_col5, #T_0cb09_row3_col7, #T_0cb09_row6_col3, #T_0cb09_row13_col4 {\n",
       "  text-align: left;\n",
       "  background-color: yellow;\n",
       "}\n",
       "#T_0cb09_row0_col8, #T_0cb09_row1_col8, #T_0cb09_row2_col8, #T_0cb09_row3_col8, #T_0cb09_row4_col8, #T_0cb09_row5_col8, #T_0cb09_row6_col8, #T_0cb09_row7_col8, #T_0cb09_row8_col8, #T_0cb09_row9_col8, #T_0cb09_row10_col8, #T_0cb09_row12_col8, #T_0cb09_row13_col8 {\n",
       "  text-align: left;\n",
       "  background-color: lightgrey;\n",
       "}\n",
       "#T_0cb09_row11_col8 {\n",
       "  text-align: left;\n",
       "  background-color: yellow;\n",
       "  background-color: lightgrey;\n",
       "}\n",
       "</style>\n",
       "<table id=\"T_0cb09\">\n",
       "  <thead>\n",
       "    <tr>\n",
       "      <th class=\"blank level0\" >&nbsp;</th>\n",
       "      <th id=\"T_0cb09_level0_col0\" class=\"col_heading level0 col0\" >Model</th>\n",
       "      <th id=\"T_0cb09_level0_col1\" class=\"col_heading level0 col1\" >Accuracy</th>\n",
       "      <th id=\"T_0cb09_level0_col2\" class=\"col_heading level0 col2\" >AUC</th>\n",
       "      <th id=\"T_0cb09_level0_col3\" class=\"col_heading level0 col3\" >Recall</th>\n",
       "      <th id=\"T_0cb09_level0_col4\" class=\"col_heading level0 col4\" >Prec.</th>\n",
       "      <th id=\"T_0cb09_level0_col5\" class=\"col_heading level0 col5\" >F1</th>\n",
       "      <th id=\"T_0cb09_level0_col6\" class=\"col_heading level0 col6\" >Kappa</th>\n",
       "      <th id=\"T_0cb09_level0_col7\" class=\"col_heading level0 col7\" >MCC</th>\n",
       "      <th id=\"T_0cb09_level0_col8\" class=\"col_heading level0 col8\" >TT (Sec)</th>\n",
       "    </tr>\n",
       "  </thead>\n",
       "  <tbody>\n",
       "    <tr>\n",
       "      <th id=\"T_0cb09_level0_row0\" class=\"row_heading level0 row0\" >gbc</th>\n",
       "      <td id=\"T_0cb09_row0_col0\" class=\"data row0 col0\" >Gradient Boosting Classifier</td>\n",
       "      <td id=\"T_0cb09_row0_col1\" class=\"data row0 col1\" >0.7976</td>\n",
       "      <td id=\"T_0cb09_row0_col2\" class=\"data row0 col2\" >0.8427</td>\n",
       "      <td id=\"T_0cb09_row0_col3\" class=\"data row0 col3\" >0.5092</td>\n",
       "      <td id=\"T_0cb09_row0_col4\" class=\"data row0 col4\" >0.6542</td>\n",
       "      <td id=\"T_0cb09_row0_col5\" class=\"data row0 col5\" >0.5715</td>\n",
       "      <td id=\"T_0cb09_row0_col6\" class=\"data row0 col6\" >0.4419</td>\n",
       "      <td id=\"T_0cb09_row0_col7\" class=\"data row0 col7\" >0.4486</td>\n",
       "      <td id=\"T_0cb09_row0_col8\" class=\"data row0 col8\" >0.1530</td>\n",
       "    </tr>\n",
       "    <tr>\n",
       "      <th id=\"T_0cb09_level0_row1\" class=\"row_heading level0 row1\" >lr</th>\n",
       "      <td id=\"T_0cb09_row1_col0\" class=\"data row1 col0\" >Logistic Regression</td>\n",
       "      <td id=\"T_0cb09_row1_col1\" class=\"data row1 col1\" >0.7989</td>\n",
       "      <td id=\"T_0cb09_row1_col2\" class=\"data row1 col2\" >0.8409</td>\n",
       "      <td id=\"T_0cb09_row1_col3\" class=\"data row1 col3\" >0.5214</td>\n",
       "      <td id=\"T_0cb09_row1_col4\" class=\"data row1 col4\" >0.6526</td>\n",
       "      <td id=\"T_0cb09_row1_col5\" class=\"data row1 col5\" >0.5790</td>\n",
       "      <td id=\"T_0cb09_row1_col6\" class=\"data row1 col6\" >0.4492</td>\n",
       "      <td id=\"T_0cb09_row1_col7\" class=\"data row1 col7\" >0.4545</td>\n",
       "      <td id=\"T_0cb09_row1_col8\" class=\"data row1 col8\" >0.0300</td>\n",
       "    </tr>\n",
       "    <tr>\n",
       "      <th id=\"T_0cb09_level0_row2\" class=\"row_heading level0 row2\" >ada</th>\n",
       "      <td id=\"T_0cb09_row2_col0\" class=\"data row2 col0\" >Ada Boost Classifier</td>\n",
       "      <td id=\"T_0cb09_row2_col1\" class=\"data row2 col1\" >0.7995</td>\n",
       "      <td id=\"T_0cb09_row2_col2\" class=\"data row2 col2\" >0.8394</td>\n",
       "      <td id=\"T_0cb09_row2_col3\" class=\"data row2 col3\" >0.5199</td>\n",
       "      <td id=\"T_0cb09_row2_col4\" class=\"data row2 col4\" >0.6552</td>\n",
       "      <td id=\"T_0cb09_row2_col5\" class=\"data row2 col5\" >0.5784</td>\n",
       "      <td id=\"T_0cb09_row2_col6\" class=\"data row2 col6\" >0.4495</td>\n",
       "      <td id=\"T_0cb09_row2_col7\" class=\"data row2 col7\" >0.4554</td>\n",
       "      <td id=\"T_0cb09_row2_col8\" class=\"data row2 col8\" >0.0660</td>\n",
       "    </tr>\n",
       "    <tr>\n",
       "      <th id=\"T_0cb09_level0_row3\" class=\"row_heading level0 row3\" >qda</th>\n",
       "      <td id=\"T_0cb09_row3_col0\" class=\"data row3 col0\" >Quadratic Discriminant Analysis</td>\n",
       "      <td id=\"T_0cb09_row3_col1\" class=\"data row3 col1\" >0.7503</td>\n",
       "      <td id=\"T_0cb09_row3_col2\" class=\"data row3 col2\" >0.8297</td>\n",
       "      <td id=\"T_0cb09_row3_col3\" class=\"data row3 col3\" >0.7523</td>\n",
       "      <td id=\"T_0cb09_row3_col4\" class=\"data row3 col4\" >0.5211</td>\n",
       "      <td id=\"T_0cb09_row3_col5\" class=\"data row3 col5\" >0.6153</td>\n",
       "      <td id=\"T_0cb09_row3_col6\" class=\"data row3 col6\" >0.4394</td>\n",
       "      <td id=\"T_0cb09_row3_col7\" class=\"data row3 col7\" >0.4562</td>\n",
       "      <td id=\"T_0cb09_row3_col8\" class=\"data row3 col8\" >0.0110</td>\n",
       "    </tr>\n",
       "    <tr>\n",
       "      <th id=\"T_0cb09_level0_row4\" class=\"row_heading level0 row4\" >lda</th>\n",
       "      <td id=\"T_0cb09_row4_col0\" class=\"data row4 col0\" >Linear Discriminant Analysis</td>\n",
       "      <td id=\"T_0cb09_row4_col1\" class=\"data row4 col1\" >0.7944</td>\n",
       "      <td id=\"T_0cb09_row4_col2\" class=\"data row4 col2\" >0.8268</td>\n",
       "      <td id=\"T_0cb09_row4_col3\" class=\"data row4 col3\" >0.5146</td>\n",
       "      <td id=\"T_0cb09_row4_col4\" class=\"data row4 col4\" >0.6421</td>\n",
       "      <td id=\"T_0cb09_row4_col5\" class=\"data row4 col5\" >0.5700</td>\n",
       "      <td id=\"T_0cb09_row4_col6\" class=\"data row4 col6\" >0.4373</td>\n",
       "      <td id=\"T_0cb09_row4_col7\" class=\"data row4 col7\" >0.4427</td>\n",
       "      <td id=\"T_0cb09_row4_col8\" class=\"data row4 col8\" >0.0170</td>\n",
       "    </tr>\n",
       "    <tr>\n",
       "      <th id=\"T_0cb09_level0_row5\" class=\"row_heading level0 row5\" >lightgbm</th>\n",
       "      <td id=\"T_0cb09_row5_col0\" class=\"data row5 col0\" >Light Gradient Boosting Machine</td>\n",
       "      <td id=\"T_0cb09_row5_col1\" class=\"data row5 col1\" >0.7861</td>\n",
       "      <td id=\"T_0cb09_row5_col2\" class=\"data row5 col2\" >0.8262</td>\n",
       "      <td id=\"T_0cb09_row5_col3\" class=\"data row5 col3\" >0.5107</td>\n",
       "      <td id=\"T_0cb09_row5_col4\" class=\"data row5 col4\" >0.6188</td>\n",
       "      <td id=\"T_0cb09_row5_col5\" class=\"data row5 col5\" >0.5590</td>\n",
       "      <td id=\"T_0cb09_row5_col6\" class=\"data row5 col6\" >0.4196</td>\n",
       "      <td id=\"T_0cb09_row5_col7\" class=\"data row5 col7\" >0.4233</td>\n",
       "      <td id=\"T_0cb09_row5_col8\" class=\"data row5 col8\" >0.0750</td>\n",
       "    </tr>\n",
       "    <tr>\n",
       "      <th id=\"T_0cb09_level0_row6\" class=\"row_heading level0 row6\" >nb</th>\n",
       "      <td id=\"T_0cb09_row6_col0\" class=\"data row6 col0\" >Naive Bayes</td>\n",
       "      <td id=\"T_0cb09_row6_col1\" class=\"data row6 col1\" >0.7202</td>\n",
       "      <td id=\"T_0cb09_row6_col2\" class=\"data row6 col2\" >0.8112</td>\n",
       "      <td id=\"T_0cb09_row6_col3\" class=\"data row6 col3\" >0.7714</td>\n",
       "      <td id=\"T_0cb09_row6_col4\" class=\"data row6 col4\" >0.4846</td>\n",
       "      <td id=\"T_0cb09_row6_col5\" class=\"data row6 col5\" >0.5947</td>\n",
       "      <td id=\"T_0cb09_row6_col6\" class=\"data row6 col6\" >0.3980</td>\n",
       "      <td id=\"T_0cb09_row6_col7\" class=\"data row6 col7\" >0.4236</td>\n",
       "      <td id=\"T_0cb09_row6_col8\" class=\"data row6 col8\" >0.0120</td>\n",
       "    </tr>\n",
       "    <tr>\n",
       "      <th id=\"T_0cb09_level0_row7\" class=\"row_heading level0 row7\" >rf</th>\n",
       "      <td id=\"T_0cb09_row7_col0\" class=\"data row7 col0\" >Random Forest Classifier</td>\n",
       "      <td id=\"T_0cb09_row7_col1\" class=\"data row7 col1\" >0.7747</td>\n",
       "      <td id=\"T_0cb09_row7_col2\" class=\"data row7 col2\" >0.7981</td>\n",
       "      <td id=\"T_0cb09_row7_col3\" class=\"data row7 col3\" >0.4801</td>\n",
       "      <td id=\"T_0cb09_row7_col4\" class=\"data row7 col4\" >0.5926</td>\n",
       "      <td id=\"T_0cb09_row7_col5\" class=\"data row7 col5\" >0.5299</td>\n",
       "      <td id=\"T_0cb09_row7_col6\" class=\"data row7 col6\" >0.3841</td>\n",
       "      <td id=\"T_0cb09_row7_col7\" class=\"data row7 col7\" >0.3880</td>\n",
       "      <td id=\"T_0cb09_row7_col8\" class=\"data row7 col8\" >0.1930</td>\n",
       "    </tr>\n",
       "    <tr>\n",
       "      <th id=\"T_0cb09_level0_row8\" class=\"row_heading level0 row8\" >et</th>\n",
       "      <td id=\"T_0cb09_row8_col0\" class=\"data row8 col0\" >Extra Trees Classifier</td>\n",
       "      <td id=\"T_0cb09_row8_col1\" class=\"data row8 col1\" >0.7625</td>\n",
       "      <td id=\"T_0cb09_row8_col2\" class=\"data row8 col2\" >0.7830</td>\n",
       "      <td id=\"T_0cb09_row8_col3\" class=\"data row8 col3\" >0.4893</td>\n",
       "      <td id=\"T_0cb09_row8_col4\" class=\"data row8 col4\" >0.5607</td>\n",
       "      <td id=\"T_0cb09_row8_col5\" class=\"data row8 col5\" >0.5219</td>\n",
       "      <td id=\"T_0cb09_row8_col6\" class=\"data row8 col6\" >0.3651</td>\n",
       "      <td id=\"T_0cb09_row8_col7\" class=\"data row8 col7\" >0.3669</td>\n",
       "      <td id=\"T_0cb09_row8_col8\" class=\"data row8 col8\" >0.1190</td>\n",
       "    </tr>\n",
       "    <tr>\n",
       "      <th id=\"T_0cb09_level0_row9\" class=\"row_heading level0 row9\" >knn</th>\n",
       "      <td id=\"T_0cb09_row9_col0\" class=\"data row9 col0\" >K Neighbors Classifier</td>\n",
       "      <td id=\"T_0cb09_row9_col1\" class=\"data row9 col1\" >0.7603</td>\n",
       "      <td id=\"T_0cb09_row9_col2\" class=\"data row9 col2\" >0.7552</td>\n",
       "      <td id=\"T_0cb09_row9_col3\" class=\"data row9 col3\" >0.4441</td>\n",
       "      <td id=\"T_0cb09_row9_col4\" class=\"data row9 col4\" >0.5645</td>\n",
       "      <td id=\"T_0cb09_row9_col5\" class=\"data row9 col5\" >0.4960</td>\n",
       "      <td id=\"T_0cb09_row9_col6\" class=\"data row9 col6\" >0.3418</td>\n",
       "      <td id=\"T_0cb09_row9_col7\" class=\"data row9 col7\" >0.3467</td>\n",
       "      <td id=\"T_0cb09_row9_col8\" class=\"data row9 col8\" >0.0240</td>\n",
       "    </tr>\n",
       "    <tr>\n",
       "      <th id=\"T_0cb09_level0_row10\" class=\"row_heading level0 row10\" >dt</th>\n",
       "      <td id=\"T_0cb09_row10_col0\" class=\"data row10 col0\" >Decision Tree Classifier</td>\n",
       "      <td id=\"T_0cb09_row10_col1\" class=\"data row10 col1\" >0.7341</td>\n",
       "      <td id=\"T_0cb09_row10_col2\" class=\"data row10 col2\" >0.6612</td>\n",
       "      <td id=\"T_0cb09_row10_col3\" class=\"data row10 col3\" >0.4977</td>\n",
       "      <td id=\"T_0cb09_row10_col4\" class=\"data row10 col4\" >0.5007</td>\n",
       "      <td id=\"T_0cb09_row10_col5\" class=\"data row10 col5\" >0.4980</td>\n",
       "      <td id=\"T_0cb09_row10_col6\" class=\"data row10 col6\" >0.3175</td>\n",
       "      <td id=\"T_0cb09_row10_col7\" class=\"data row10 col7\" >0.3182</td>\n",
       "      <td id=\"T_0cb09_row10_col8\" class=\"data row10 col8\" >0.0150</td>\n",
       "    </tr>\n",
       "    <tr>\n",
       "      <th id=\"T_0cb09_level0_row11\" class=\"row_heading level0 row11\" >dummy</th>\n",
       "      <td id=\"T_0cb09_row11_col0\" class=\"data row11 col0\" >Dummy Classifier</td>\n",
       "      <td id=\"T_0cb09_row11_col1\" class=\"data row11 col1\" >0.7343</td>\n",
       "      <td id=\"T_0cb09_row11_col2\" class=\"data row11 col2\" >0.5000</td>\n",
       "      <td id=\"T_0cb09_row11_col3\" class=\"data row11 col3\" >0.0000</td>\n",
       "      <td id=\"T_0cb09_row11_col4\" class=\"data row11 col4\" >0.0000</td>\n",
       "      <td id=\"T_0cb09_row11_col5\" class=\"data row11 col5\" >0.0000</td>\n",
       "      <td id=\"T_0cb09_row11_col6\" class=\"data row11 col6\" >0.0000</td>\n",
       "      <td id=\"T_0cb09_row11_col7\" class=\"data row11 col7\" >0.0000</td>\n",
       "      <td id=\"T_0cb09_row11_col8\" class=\"data row11 col8\" >0.0090</td>\n",
       "    </tr>\n",
       "    <tr>\n",
       "      <th id=\"T_0cb09_level0_row12\" class=\"row_heading level0 row12\" >svm</th>\n",
       "      <td id=\"T_0cb09_row12_col0\" class=\"data row12 col0\" >SVM - Linear Kernel</td>\n",
       "      <td id=\"T_0cb09_row12_col1\" class=\"data row12 col1\" >0.7371</td>\n",
       "      <td id=\"T_0cb09_row12_col2\" class=\"data row12 col2\" >0.0000</td>\n",
       "      <td id=\"T_0cb09_row12_col3\" class=\"data row12 col3\" >0.4518</td>\n",
       "      <td id=\"T_0cb09_row12_col4\" class=\"data row12 col4\" >0.6231</td>\n",
       "      <td id=\"T_0cb09_row12_col5\" class=\"data row12 col5\" >0.4523</td>\n",
       "      <td id=\"T_0cb09_row12_col6\" class=\"data row12 col6\" >0.3044</td>\n",
       "      <td id=\"T_0cb09_row12_col7\" class=\"data row12 col7\" >0.3518</td>\n",
       "      <td id=\"T_0cb09_row12_col8\" class=\"data row12 col8\" >0.0140</td>\n",
       "    </tr>\n",
       "    <tr>\n",
       "      <th id=\"T_0cb09_level0_row13\" class=\"row_heading level0 row13\" >ridge</th>\n",
       "      <td id=\"T_0cb09_row13_col0\" class=\"data row13 col0\" >Ridge Classifier</td>\n",
       "      <td id=\"T_0cb09_row13_col1\" class=\"data row13 col1\" >0.7962</td>\n",
       "      <td id=\"T_0cb09_row13_col2\" class=\"data row13 col2\" >0.0000</td>\n",
       "      <td id=\"T_0cb09_row13_col3\" class=\"data row13 col3\" >0.4610</td>\n",
       "      <td id=\"T_0cb09_row13_col4\" class=\"data row13 col4\" >0.6706</td>\n",
       "      <td id=\"T_0cb09_row13_col5\" class=\"data row13 col5\" >0.5453</td>\n",
       "      <td id=\"T_0cb09_row13_col6\" class=\"data row13 col6\" >0.4200</td>\n",
       "      <td id=\"T_0cb09_row13_col7\" class=\"data row13 col7\" >0.4328</td>\n",
       "      <td id=\"T_0cb09_row13_col8\" class=\"data row13 col8\" >0.0110</td>\n",
       "    </tr>\n",
       "  </tbody>\n",
       "</table>\n"
      ],
      "text/plain": [
       "<pandas.io.formats.style.Styler at 0x19cf0c90f70>"
      ]
     },
     "metadata": {},
     "output_type": "display_data"
    },
    {
     "data": {
      "application/vnd.jupyter.widget-view+json": {
       "model_id": "f7ee798fc3544502869049420ab71fce",
       "version_major": 2,
       "version_minor": 0
      },
      "text/plain": [
       "Processing:   0%|          | 0/61 [00:00<?, ?it/s]"
      ]
     },
     "metadata": {},
     "output_type": "display_data"
    }
   ],
   "source": [
    "best_model = automl.compare_models(sort='AUC')"
   ]
  },
  {
   "cell_type": "code",
   "execution_count": 15,
   "id": "dfc4afd2",
   "metadata": {},
   "outputs": [
    {
     "data": {
      "text/html": [
       "<style>#sk-container-id-1 {color: black;background-color: white;}#sk-container-id-1 pre{padding: 0;}#sk-container-id-1 div.sk-toggleable {background-color: white;}#sk-container-id-1 label.sk-toggleable__label {cursor: pointer;display: block;width: 100%;margin-bottom: 0;padding: 0.3em;box-sizing: border-box;text-align: center;}#sk-container-id-1 label.sk-toggleable__label-arrow:before {content: \"▸\";float: left;margin-right: 0.25em;color: #696969;}#sk-container-id-1 label.sk-toggleable__label-arrow:hover:before {color: black;}#sk-container-id-1 div.sk-estimator:hover label.sk-toggleable__label-arrow:before {color: black;}#sk-container-id-1 div.sk-toggleable__content {max-height: 0;max-width: 0;overflow: hidden;text-align: left;background-color: #f0f8ff;}#sk-container-id-1 div.sk-toggleable__content pre {margin: 0.2em;color: black;border-radius: 0.25em;background-color: #f0f8ff;}#sk-container-id-1 input.sk-toggleable__control:checked~div.sk-toggleable__content {max-height: 200px;max-width: 100%;overflow: auto;}#sk-container-id-1 input.sk-toggleable__control:checked~label.sk-toggleable__label-arrow:before {content: \"▾\";}#sk-container-id-1 div.sk-estimator input.sk-toggleable__control:checked~label.sk-toggleable__label {background-color: #d4ebff;}#sk-container-id-1 div.sk-label input.sk-toggleable__control:checked~label.sk-toggleable__label {background-color: #d4ebff;}#sk-container-id-1 input.sk-hidden--visually {border: 0;clip: rect(1px 1px 1px 1px);clip: rect(1px, 1px, 1px, 1px);height: 1px;margin: -1px;overflow: hidden;padding: 0;position: absolute;width: 1px;}#sk-container-id-1 div.sk-estimator {font-family: monospace;background-color: #f0f8ff;border: 1px dotted black;border-radius: 0.25em;box-sizing: border-box;margin-bottom: 0.5em;}#sk-container-id-1 div.sk-estimator:hover {background-color: #d4ebff;}#sk-container-id-1 div.sk-parallel-item::after {content: \"\";width: 100%;border-bottom: 1px solid gray;flex-grow: 1;}#sk-container-id-1 div.sk-label:hover label.sk-toggleable__label {background-color: #d4ebff;}#sk-container-id-1 div.sk-serial::before {content: \"\";position: absolute;border-left: 1px solid gray;box-sizing: border-box;top: 0;bottom: 0;left: 50%;z-index: 0;}#sk-container-id-1 div.sk-serial {display: flex;flex-direction: column;align-items: center;background-color: white;padding-right: 0.2em;padding-left: 0.2em;position: relative;}#sk-container-id-1 div.sk-item {position: relative;z-index: 1;}#sk-container-id-1 div.sk-parallel {display: flex;align-items: stretch;justify-content: center;background-color: white;position: relative;}#sk-container-id-1 div.sk-item::before, #sk-container-id-1 div.sk-parallel-item::before {content: \"\";position: absolute;border-left: 1px solid gray;box-sizing: border-box;top: 0;bottom: 0;left: 50%;z-index: -1;}#sk-container-id-1 div.sk-parallel-item {display: flex;flex-direction: column;z-index: 1;position: relative;background-color: white;}#sk-container-id-1 div.sk-parallel-item:first-child::after {align-self: flex-end;width: 50%;}#sk-container-id-1 div.sk-parallel-item:last-child::after {align-self: flex-start;width: 50%;}#sk-container-id-1 div.sk-parallel-item:only-child::after {width: 0;}#sk-container-id-1 div.sk-dashed-wrapped {border: 1px dashed gray;margin: 0 0.4em 0.5em 0.4em;box-sizing: border-box;padding-bottom: 0.4em;background-color: white;}#sk-container-id-1 div.sk-label label {font-family: monospace;font-weight: bold;display: inline-block;line-height: 1.2em;}#sk-container-id-1 div.sk-label-container {text-align: center;}#sk-container-id-1 div.sk-container {/* jupyter's `normalize.less` sets `[hidden] { display: none; }` but bootstrap.min.css set `[hidden] { display: none !important; }` so we also need the `!important` here to be able to override the default hidden behavior on the sphinx rendered scikit-learn.org. See: https://github.com/scikit-learn/scikit-learn/issues/21755 */display: inline-block !important;position: relative;}#sk-container-id-1 div.sk-text-repr-fallback {display: none;}</style><div id=\"sk-container-id-1\" class=\"sk-top-container\"><div class=\"sk-text-repr-fallback\"><pre>GradientBoostingClassifier(ccp_alpha=0.0, criterion=&#x27;friedman_mse&#x27;, init=None,\n",
       "                           learning_rate=0.1, loss=&#x27;log_loss&#x27;, max_depth=3,\n",
       "                           max_features=None, max_leaf_nodes=None,\n",
       "                           min_impurity_decrease=0.0, min_samples_leaf=1,\n",
       "                           min_samples_split=2, min_weight_fraction_leaf=0.0,\n",
       "                           n_estimators=100, n_iter_no_change=None,\n",
       "                           random_state=1678, subsample=1.0, tol=0.0001,\n",
       "                           validation_fraction=0.1, verbose=0,\n",
       "                           warm_start=False)</pre><b>In a Jupyter environment, please rerun this cell to show the HTML representation or trust the notebook. <br />On GitHub, the HTML representation is unable to render, please try loading this page with nbviewer.org.</b></div><div class=\"sk-container\" hidden><div class=\"sk-item\"><div class=\"sk-estimator sk-toggleable\"><input class=\"sk-toggleable__control sk-hidden--visually\" id=\"sk-estimator-id-1\" type=\"checkbox\" checked><label for=\"sk-estimator-id-1\" class=\"sk-toggleable__label sk-toggleable__label-arrow\">GradientBoostingClassifier</label><div class=\"sk-toggleable__content\"><pre>GradientBoostingClassifier(ccp_alpha=0.0, criterion=&#x27;friedman_mse&#x27;, init=None,\n",
       "                           learning_rate=0.1, loss=&#x27;log_loss&#x27;, max_depth=3,\n",
       "                           max_features=None, max_leaf_nodes=None,\n",
       "                           min_impurity_decrease=0.0, min_samples_leaf=1,\n",
       "                           min_samples_split=2, min_weight_fraction_leaf=0.0,\n",
       "                           n_estimators=100, n_iter_no_change=None,\n",
       "                           random_state=1678, subsample=1.0, tol=0.0001,\n",
       "                           validation_fraction=0.1, verbose=0,\n",
       "                           warm_start=False)</pre></div></div></div></div></div>"
      ],
      "text/plain": [
       "GradientBoostingClassifier(ccp_alpha=0.0, criterion='friedman_mse', init=None,\n",
       "                           learning_rate=0.1, loss='log_loss', max_depth=3,\n",
       "                           max_features=None, max_leaf_nodes=None,\n",
       "                           min_impurity_decrease=0.0, min_samples_leaf=1,\n",
       "                           min_samples_split=2, min_weight_fraction_leaf=0.0,\n",
       "                           n_estimators=100, n_iter_no_change=None,\n",
       "                           random_state=1678, subsample=1.0, tol=0.0001,\n",
       "                           validation_fraction=0.1, verbose=0,\n",
       "                           warm_start=False)"
      ]
     },
     "execution_count": 15,
     "metadata": {},
     "output_type": "execute_result"
    }
   ],
   "source": [
    "best_model"
   ]
  },
  {
   "cell_type": "code",
   "execution_count": 16,
   "id": "421c7fa8",
   "metadata": {},
   "outputs": [
    {
     "data": {
      "application/vnd.jupyter.widget-view+json": {
       "model_id": "0a0a902fce844883aa2cb1aa7f5dc926",
       "version_major": 2,
       "version_minor": 0
      },
      "text/plain": [
       "interactive(children=(ToggleButtons(description='Plot Type:', icons=('',), options=(('Pipeline Plot', 'pipelin…"
      ]
     },
     "metadata": {},
     "output_type": "display_data"
    }
   ],
   "source": [
    "\n",
    "automl.evaluate_model(best_model)"
   ]
  },
  {
   "cell_type": "code",
   "execution_count": 17,
   "id": "77fee28e",
   "metadata": {},
   "outputs": [
    {
     "data": {
      "text/html": [],
      "text/plain": [
       "<IPython.core.display.HTML object>"
      ]
     },
     "metadata": {},
     "output_type": "display_data"
    },
    {
     "data": {
      "image/png": "[encoded data removed]",
      "text/plain": [
       "<Figure size 800x550 with 1 Axes>"
      ]
     },
     "metadata": {},
     "output_type": "display_data"
    }
   ],
   "source": [
    "automl.plot_model(best_model)"
   ]
  },
  {
   "cell_type": "code",
   "execution_count": 18,
   "id": "d15134a5",
   "metadata": {},
   "outputs": [
    {
     "data": {
      "text/html": [],
      "text/plain": [
       "<IPython.core.display.HTML object>"
      ]
     },
     "metadata": {},
     "output_type": "display_data"
    },
    {
     "data": {
      "image/png": "[encoded data removed]",
      "text/plain": [
       "<Figure size 800x550 with 1 Axes>"
      ]
     },
     "metadata": {},
     "output_type": "display_data"
    }
   ],
   "source": [
    "automl.plot_model(best_model, plot = 'confusion_matrix')"
   ]
  },
  {
   "cell_type": "markdown",
   "id": "b7ee24dd",
   "metadata": {},
   "source": [
    "the command below shows that the shape of the last two rows of the dataframe are both one row by 7 columns."
   ]
  },
  {
   "cell_type": "code",
   "execution_count": 19,
   "id": "91c32c6a",
   "metadata": {},
   "outputs": [
    {
     "data": {
      "text/plain": [
       "(1, 7)"
      ]
     },
     "execution_count": 19,
     "metadata": {},
     "output_type": "execute_result"
    }
   ],
   "source": [
    "df.iloc[-2:-1].shape"
   ]
  },
  {
   "cell_type": "markdown",
   "id": "ece4f38e",
   "metadata": {},
   "source": [
    "The command below shows the last row of the dataframe has 7 columns."
   ]
  },
  {
   "cell_type": "code",
   "execution_count": 20,
   "id": "1a01c3e0",
   "metadata": {},
   "outputs": [
    {
     "data": {
      "text/plain": [
       "(7,)"
      ]
     },
     "execution_count": 20,
     "metadata": {},
     "output_type": "execute_result"
    }
   ],
   "source": [
    "df.iloc[-1].shape"
   ]
  },
  {
   "cell_type": "code",
   "execution_count": 21,
   "id": "4d0d4c2e",
   "metadata": {},
   "outputs": [
    {
     "data": {
      "text/html": [],
      "text/plain": [
       "<IPython.core.display.HTML object>"
      ]
     },
     "metadata": {},
     "output_type": "display_data"
    },
    {
     "data": {
      "text/html": [
       "<div>\n",
       "<style scoped>\n",
       "    .dataframe tbody tr th:only-of-type {\n",
       "        vertical-align: middle;\n",
       "    }\n",
       "\n",
       "    .dataframe tbody tr th {\n",
       "        vertical-align: top;\n",
       "    }\n",
       "\n",
       "    .dataframe thead th {\n",
       "        text-align: right;\n",
       "    }\n",
       "</style>\n",
       "<table border=\"1\" class=\"dataframe\">\n",
       "  <thead>\n",
       "    <tr style=\"text-align: right;\">\n",
       "      <th></th>\n",
       "      <th>tenure</th>\n",
       "      <th>PhoneService</th>\n",
       "      <th>Contract</th>\n",
       "      <th>PaymentMethod</th>\n",
       "      <th>MonthlyCharges</th>\n",
       "      <th>TotalCharges</th>\n",
       "      <th>Churn</th>\n",
       "      <th>prediction_label</th>\n",
       "      <th>prediction_score</th>\n",
       "    </tr>\n",
       "    <tr>\n",
       "      <th>customerID</th>\n",
       "      <th></th>\n",
       "      <th></th>\n",
       "      <th></th>\n",
       "      <th></th>\n",
       "      <th></th>\n",
       "      <th></th>\n",
       "      <th></th>\n",
       "      <th></th>\n",
       "      <th></th>\n",
       "    </tr>\n",
       "  </thead>\n",
       "  <tbody>\n",
       "    <tr>\n",
       "      <th>8361-LTMKD</th>\n",
       "      <td>4</td>\n",
       "      <td>1</td>\n",
       "      <td>1</td>\n",
       "      <td>2</td>\n",
       "      <td>74.400002</td>\n",
       "      <td>306.600006</td>\n",
       "      <td>1</td>\n",
       "      <td>1</td>\n",
       "      <td>0.6148</td>\n",
       "    </tr>\n",
       "  </tbody>\n",
       "</table>\n",
       "</div>"
      ],
      "text/plain": [
       "            tenure  PhoneService  Contract  PaymentMethod  MonthlyCharges  \\\n",
       "customerID                                                                  \n",
       "8361-LTMKD       4             1         1              2       74.400002   \n",
       "\n",
       "            TotalCharges  Churn  prediction_label  prediction_score  \n",
       "customerID                                                           \n",
       "8361-LTMKD    306.600006      1                 1            0.6148  "
      ]
     },
     "execution_count": 21,
     "metadata": {},
     "output_type": "execute_result"
    }
   ],
   "source": [
    "automl.predict_model(best_model, df.iloc[-2:-1])"
   ]
  },
  {
   "cell_type": "code",
   "execution_count": 22,
   "id": "d23d0fe9",
   "metadata": {},
   "outputs": [
    {
     "data": {
      "text/html": [
       "<style type=\"text/css\">\n",
       "</style>\n",
       "<table id=\"T_65b55\">\n",
       "  <thead>\n",
       "    <tr>\n",
       "      <th class=\"blank level0\" >&nbsp;</th>\n",
       "      <th id=\"T_65b55_level0_col0\" class=\"col_heading level0 col0\" >Model</th>\n",
       "      <th id=\"T_65b55_level0_col1\" class=\"col_heading level0 col1\" >Accuracy</th>\n",
       "      <th id=\"T_65b55_level0_col2\" class=\"col_heading level0 col2\" >AUC</th>\n",
       "      <th id=\"T_65b55_level0_col3\" class=\"col_heading level0 col3\" >Recall</th>\n",
       "      <th id=\"T_65b55_level0_col4\" class=\"col_heading level0 col4\" >Prec.</th>\n",
       "      <th id=\"T_65b55_level0_col5\" class=\"col_heading level0 col5\" >F1</th>\n",
       "      <th id=\"T_65b55_level0_col6\" class=\"col_heading level0 col6\" >Kappa</th>\n",
       "      <th id=\"T_65b55_level0_col7\" class=\"col_heading level0 col7\" >MCC</th>\n",
       "    </tr>\n",
       "  </thead>\n",
       "  <tbody>\n",
       "    <tr>\n",
       "      <th id=\"T_65b55_level0_row0\" class=\"row_heading level0 row0\" >0</th>\n",
       "      <td id=\"T_65b55_row0_col0\" class=\"data row0 col0\" >Gradient Boosting Classifier</td>\n",
       "      <td id=\"T_65b55_row0_col1\" class=\"data row0 col1\" >0.8151</td>\n",
       "      <td id=\"T_65b55_row0_col2\" class=\"data row0 col2\" >0.8628</td>\n",
       "      <td id=\"T_65b55_row0_col3\" class=\"data row0 col3\" >0.5506</td>\n",
       "      <td id=\"T_65b55_row0_col4\" class=\"data row0 col4\" >0.6911</td>\n",
       "      <td id=\"T_65b55_row0_col5\" class=\"data row0 col5\" >0.6129</td>\n",
       "      <td id=\"T_65b55_row0_col6\" class=\"data row0 col6\" >0.4935</td>\n",
       "      <td id=\"T_65b55_row0_col7\" class=\"data row0 col7\" >0.4990</td>\n",
       "    </tr>\n",
       "  </tbody>\n",
       "</table>\n"
      ],
      "text/plain": [
       "<pandas.io.formats.style.Styler at 0x19cf0dfe380>"
      ]
     },
     "metadata": {},
     "output_type": "display_data"
    }
   ],
   "source": [
    "predictions = automl.predict_model(best_model, data=df)"
   ]
  },
  {
   "cell_type": "code",
   "execution_count": 23,
   "id": "c9f00e7a",
   "metadata": {},
   "outputs": [
    {
     "data": {
      "text/html": [
       "<div>\n",
       "<style scoped>\n",
       "    .dataframe tbody tr th:only-of-type {\n",
       "        vertical-align: middle;\n",
       "    }\n",
       "\n",
       "    .dataframe tbody tr th {\n",
       "        vertical-align: top;\n",
       "    }\n",
       "\n",
       "    .dataframe thead th {\n",
       "        text-align: right;\n",
       "    }\n",
       "</style>\n",
       "<table border=\"1\" class=\"dataframe\">\n",
       "  <thead>\n",
       "    <tr style=\"text-align: right;\">\n",
       "      <th></th>\n",
       "      <th>tenure</th>\n",
       "      <th>PhoneService</th>\n",
       "      <th>Contract</th>\n",
       "      <th>PaymentMethod</th>\n",
       "      <th>MonthlyCharges</th>\n",
       "      <th>TotalCharges</th>\n",
       "      <th>Churn</th>\n",
       "      <th>prediction_label</th>\n",
       "      <th>prediction_score</th>\n",
       "    </tr>\n",
       "    <tr>\n",
       "      <th>customerID</th>\n",
       "      <th></th>\n",
       "      <th></th>\n",
       "      <th></th>\n",
       "      <th></th>\n",
       "      <th></th>\n",
       "      <th></th>\n",
       "      <th></th>\n",
       "      <th></th>\n",
       "      <th></th>\n",
       "    </tr>\n",
       "  </thead>\n",
       "  <tbody>\n",
       "    <tr>\n",
       "      <th>7590-VHVEG</th>\n",
       "      <td>1</td>\n",
       "      <td>0</td>\n",
       "      <td>1</td>\n",
       "      <td>1</td>\n",
       "      <td>29.850000</td>\n",
       "      <td>29.850000</td>\n",
       "      <td>0</td>\n",
       "      <td>0</td>\n",
       "      <td>0.6229</td>\n",
       "    </tr>\n",
       "    <tr>\n",
       "      <th>5575-GNVDE</th>\n",
       "      <td>34</td>\n",
       "      <td>1</td>\n",
       "      <td>12</td>\n",
       "      <td>2</td>\n",
       "      <td>56.950001</td>\n",
       "      <td>1889.500000</td>\n",
       "      <td>0</td>\n",
       "      <td>0</td>\n",
       "      <td>0.9429</td>\n",
       "    </tr>\n",
       "    <tr>\n",
       "      <th>3668-QPYBK</th>\n",
       "      <td>2</td>\n",
       "      <td>1</td>\n",
       "      <td>1</td>\n",
       "      <td>2</td>\n",
       "      <td>53.849998</td>\n",
       "      <td>108.150002</td>\n",
       "      <td>1</td>\n",
       "      <td>0</td>\n",
       "      <td>0.5996</td>\n",
       "    </tr>\n",
       "    <tr>\n",
       "      <th>7795-CFOCW</th>\n",
       "      <td>45</td>\n",
       "      <td>0</td>\n",
       "      <td>12</td>\n",
       "      <td>3</td>\n",
       "      <td>42.299999</td>\n",
       "      <td>1840.750000</td>\n",
       "      <td>0</td>\n",
       "      <td>0</td>\n",
       "      <td>0.9320</td>\n",
       "    </tr>\n",
       "    <tr>\n",
       "      <th>9237-HQITU</th>\n",
       "      <td>2</td>\n",
       "      <td>1</td>\n",
       "      <td>1</td>\n",
       "      <td>1</td>\n",
       "      <td>70.699997</td>\n",
       "      <td>151.649994</td>\n",
       "      <td>1</td>\n",
       "      <td>1</td>\n",
       "      <td>0.6757</td>\n",
       "    </tr>\n",
       "  </tbody>\n",
       "</table>\n",
       "</div>"
      ],
      "text/plain": [
       "            tenure  PhoneService  Contract  PaymentMethod  MonthlyCharges  \\\n",
       "customerID                                                                  \n",
       "7590-VHVEG       1             0         1              1       29.850000   \n",
       "5575-GNVDE      34             1        12              2       56.950001   \n",
       "3668-QPYBK       2             1         1              2       53.849998   \n",
       "7795-CFOCW      45             0        12              3       42.299999   \n",
       "9237-HQITU       2             1         1              1       70.699997   \n",
       "\n",
       "            TotalCharges  Churn  prediction_label  prediction_score  \n",
       "customerID                                                           \n",
       "7590-VHVEG     29.850000      0                 0            0.6229  \n",
       "5575-GNVDE   1889.500000      0                 0            0.9429  \n",
       "3668-QPYBK    108.150002      1                 0            0.5996  \n",
       "7795-CFOCW   1840.750000      0                 0            0.9320  \n",
       "9237-HQITU    151.649994      1                 1            0.6757  "
      ]
     },
     "execution_count": 23,
     "metadata": {},
     "output_type": "execute_result"
    }
   ],
   "source": [
    "predictions.head()"
   ]
  },
  {
   "cell_type": "markdown",
   "id": "f128a2f1",
   "metadata": {},
   "source": [
    "In the cell below, the best model found for AUC(Area under the ROC curve) is being stored in a file called Churn_data_pycaret_model so that it can be used to make future predictions."
   ]
  },
  {
   "cell_type": "code",
   "execution_count": 24,
   "id": "4ea95204",
   "metadata": {},
   "outputs": [
    {
     "name": "stdout",
     "output_type": "stream",
     "text": [
      "Transformation Pipeline and Model Successfully Saved\n"
     ]
    },
    {
     "data": {
      "text/plain": [
       "(Pipeline(memory=Memory(location=None),\n",
       "          steps=[('numerical_imputer',\n",
       "                  TransformerWrapper(exclude=None,\n",
       "                                     include=['tenure', 'PhoneService',\n",
       "                                              'Contract', 'PaymentMethod',\n",
       "                                              'MonthlyCharges', 'TotalCharges'],\n",
       "                                     transformer=SimpleImputer(add_indicator=False,\n",
       "                                                               copy=True,\n",
       "                                                               fill_value=None,\n",
       "                                                               keep_empty_features=False,\n",
       "                                                               missing_values=nan,\n",
       "                                                               strategy='mean',\n",
       "                                                               verbose='deprecated'))),\n",
       "                 ('...\n",
       "                                             criterion='friedman_mse', init=None,\n",
       "                                             learning_rate=0.1, loss='log_loss',\n",
       "                                             max_depth=3, max_features=None,\n",
       "                                             max_leaf_nodes=None,\n",
       "                                             min_impurity_decrease=0.0,\n",
       "                                             min_samples_leaf=1,\n",
       "                                             min_samples_split=2,\n",
       "                                             min_weight_fraction_leaf=0.0,\n",
       "                                             n_estimators=100,\n",
       "                                             n_iter_no_change=None,\n",
       "                                             random_state=1678, subsample=1.0,\n",
       "                                             tol=0.0001, validation_fraction=0.1,\n",
       "                                             verbose=0, warm_start=False))],\n",
       "          verbose=False),\n",
       " 'Churn_data_pycaret_model.pkl')"
      ]
     },
     "execution_count": 24,
     "metadata": {},
     "output_type": "execute_result"
    }
   ],
   "source": [
    "automl.save_model(best_model, 'Churn_data_pycaret_model')"
   ]
  },
  {
   "cell_type": "code",
   "execution_count": 25,
   "id": "3a9bf4d3",
   "metadata": {},
   "outputs": [
    {
     "name": "stdout",
     "output_type": "stream",
     "text": [
      "Transformation Pipeline and Model Successfully Loaded\n"
     ]
    }
   ],
   "source": [
    "Churn_data_pycaret_model = ClassificationExperiment()\n",
    "loaded_model = Churn_data_pycaret_model.load_model('Churn_data_pycaret_model')"
   ]
  },
  {
   "cell_type": "code",
   "execution_count": 26,
   "id": "c4f1d9d4",
   "metadata": {},
   "outputs": [
    {
     "data": {
      "text/html": [
       "<div>\n",
       "<style scoped>\n",
       "    .dataframe tbody tr th:only-of-type {\n",
       "        vertical-align: middle;\n",
       "    }\n",
       "\n",
       "    .dataframe tbody tr th {\n",
       "        vertical-align: top;\n",
       "    }\n",
       "\n",
       "    .dataframe thead th {\n",
       "        text-align: right;\n",
       "    }\n",
       "</style>\n",
       "<table border=\"1\" class=\"dataframe\">\n",
       "  <thead>\n",
       "    <tr style=\"text-align: right;\">\n",
       "      <th></th>\n",
       "      <th>tenure</th>\n",
       "      <th>PhoneService</th>\n",
       "      <th>Contract</th>\n",
       "      <th>PaymentMethod</th>\n",
       "      <th>MonthlyCharges</th>\n",
       "      <th>TotalCharges</th>\n",
       "      <th>Churn</th>\n",
       "      <th>prediction_label</th>\n",
       "      <th>prediction_score</th>\n",
       "    </tr>\n",
       "    <tr>\n",
       "      <th>customerID</th>\n",
       "      <th></th>\n",
       "      <th></th>\n",
       "      <th></th>\n",
       "      <th></th>\n",
       "      <th></th>\n",
       "      <th></th>\n",
       "      <th></th>\n",
       "      <th></th>\n",
       "      <th></th>\n",
       "    </tr>\n",
       "  </thead>\n",
       "  <tbody>\n",
       "    <tr>\n",
       "      <th>8361-LTMKD</th>\n",
       "      <td>4</td>\n",
       "      <td>1</td>\n",
       "      <td>1</td>\n",
       "      <td>2</td>\n",
       "      <td>74.400002</td>\n",
       "      <td>306.600006</td>\n",
       "      <td>1</td>\n",
       "      <td>1</td>\n",
       "      <td>0.6148</td>\n",
       "    </tr>\n",
       "  </tbody>\n",
       "</table>\n",
       "</div>"
      ],
      "text/plain": [
       "            tenure  PhoneService  Contract  PaymentMethod  MonthlyCharges  \\\n",
       "customerID                                                                  \n",
       "8361-LTMKD       4             1         1              2       74.400002   \n",
       "\n",
       "            TotalCharges  Churn  prediction_label  prediction_score  \n",
       "customerID                                                           \n",
       "8361-LTMKD    306.600006      1                 1            0.6148  "
      ]
     },
     "execution_count": 26,
     "metadata": {},
     "output_type": "execute_result"
    }
   ],
   "source": [
    "Churn_data_pycaret_model.predict_model(loaded_model, df.iloc[-2:-1])"
   ]
  },
  {
   "cell_type": "code",
   "execution_count": 27,
   "id": "5397ce45",
   "metadata": {},
   "outputs": [
    {
     "data": {
      "text/html": [
       "<style>pre { line-height: 125%; }\n",
       "td.linenos .normal { color: inherit; background-color: transparent; padding-left: 5px; padding-right: 5px; }\n",
       "span.linenos { color: inherit; background-color: transparent; padding-left: 5px; padding-right: 5px; }\n",
       "td.linenos .special { color: #000000; background-color: #ffffc0; padding-left: 5px; padding-right: 5px; }\n",
       "span.linenos.special { color: #000000; background-color: #ffffc0; padding-left: 5px; padding-right: 5px; }\n",
       ".output_html .hll { background-color: #ffffcc }\n",
       ".output_html { background: #f8f8f8; }\n",
       ".output_html .c { color: #3D7B7B; font-style: italic } /* Comment */\n",
       ".output_html .err { border: 1px solid #FF0000 } /* Error */\n",
       ".output_html .k { color: #008000; font-weight: bold } /* Keyword */\n",
       ".output_html .o { color: #666666 } /* Operator */\n",
       ".output_html .ch { color: #3D7B7B; font-style: italic } /* Comment.Hashbang */\n",
       ".output_html .cm { color: #3D7B7B; font-style: italic } /* Comment.Multiline */\n",
       ".output_html .cp { color: #9C6500 } /* Comment.Preproc */\n",
       ".output_html .cpf { color: #3D7B7B; font-style: italic } /* Comment.PreprocFile */\n",
       ".output_html .c1 { color: #3D7B7B; font-style: italic } /* Comment.Single */\n",
       ".output_html .cs { color: #3D7B7B; font-style: italic } /* Comment.Special */\n",
       ".output_html .gd { color: #A00000 } /* Generic.Deleted */\n",
       ".output_html .ge { font-style: italic } /* Generic.Emph */\n",
       ".output_html .gr { color: #E40000 } /* Generic.Error */\n",
       ".output_html .gh { color: #000080; font-weight: bold } /* Generic.Heading */\n",
       ".output_html .gi { color: #008400 } /* Generic.Inserted */\n",
       ".output_html .go { color: #717171 } /* Generic.Output */\n",
       ".output_html .gp { color: #000080; font-weight: bold } /* Generic.Prompt */\n",
       ".output_html .gs { font-weight: bold } /* Generic.Strong */\n",
       ".output_html .gu { color: #800080; font-weight: bold } /* Generic.Subheading */\n",
       ".output_html .gt { color: #0044DD } /* Generic.Traceback */\n",
       ".output_html .kc { color: #008000; font-weight: bold } /* Keyword.Constant */\n",
       ".output_html .kd { color: #008000; font-weight: bold } /* Keyword.Declaration */\n",
       ".output_html .kn { color: #008000; font-weight: bold } /* Keyword.Namespace */\n",
       ".output_html .kp { color: #008000 } /* Keyword.Pseudo */\n",
       ".output_html .kr { color: #008000; font-weight: bold } /* Keyword.Reserved */\n",
       ".output_html .kt { color: #B00040 } /* Keyword.Type */\n",
       ".output_html .m { color: #666666 } /* Literal.Number */\n",
       ".output_html .s { color: #BA2121 } /* Literal.String */\n",
       ".output_html .na { color: #687822 } /* Name.Attribute */\n",
       ".output_html .nb { color: #008000 } /* Name.Builtin */\n",
       ".output_html .nc { color: #0000FF; font-weight: bold } /* Name.Class */\n",
       ".output_html .no { color: #880000 } /* Name.Constant */\n",
       ".output_html .nd { color: #AA22FF } /* Name.Decorator */\n",
       ".output_html .ni { color: #717171; font-weight: bold } /* Name.Entity */\n",
       ".output_html .ne { color: #CB3F38; font-weight: bold } /* Name.Exception */\n",
       ".output_html .nf { color: #0000FF } /* Name.Function */\n",
       ".output_html .nl { color: #767600 } /* Name.Label */\n",
       ".output_html .nn { color: #0000FF; font-weight: bold } /* Name.Namespace */\n",
       ".output_html .nt { color: #008000; font-weight: bold } /* Name.Tag */\n",
       ".output_html .nv { color: #19177C } /* Name.Variable */\n",
       ".output_html .ow { color: #AA22FF; font-weight: bold } /* Operator.Word */\n",
       ".output_html .w { color: #bbbbbb } /* Text.Whitespace */\n",
       ".output_html .mb { color: #666666 } /* Literal.Number.Bin */\n",
       ".output_html .mf { color: #666666 } /* Literal.Number.Float */\n",
       ".output_html .mh { color: #666666 } /* Literal.Number.Hex */\n",
       ".output_html .mi { color: #666666 } /* Literal.Number.Integer */\n",
       ".output_html .mo { color: #666666 } /* Literal.Number.Oct */\n",
       ".output_html .sa { color: #BA2121 } /* Literal.String.Affix */\n",
       ".output_html .sb { color: #BA2121 } /* Literal.String.Backtick */\n",
       ".output_html .sc { color: #BA2121 } /* Literal.String.Char */\n",
       ".output_html .dl { color: #BA2121 } /* Literal.String.Delimiter */\n",
       ".output_html .sd { color: #BA2121; font-style: italic } /* Literal.String.Doc */\n",
       ".output_html .s2 { color: #BA2121 } /* Literal.String.Double */\n",
       ".output_html .se { color: #AA5D1F; font-weight: bold } /* Literal.String.Escape */\n",
       ".output_html .sh { color: #BA2121 } /* Literal.String.Heredoc */\n",
       ".output_html .si { color: #A45A77; font-weight: bold } /* Literal.String.Interpol */\n",
       ".output_html .sx { color: #008000 } /* Literal.String.Other */\n",
       ".output_html .sr { color: #A45A77 } /* Literal.String.Regex */\n",
       ".output_html .s1 { color: #BA2121 } /* Literal.String.Single */\n",
       ".output_html .ss { color: #19177C } /* Literal.String.Symbol */\n",
       ".output_html .bp { color: #008000 } /* Name.Builtin.Pseudo */\n",
       ".output_html .fm { color: #0000FF } /* Name.Function.Magic */\n",
       ".output_html .vc { color: #19177C } /* Name.Variable.Class */\n",
       ".output_html .vg { color: #19177C } /* Name.Variable.Global */\n",
       ".output_html .vi { color: #19177C } /* Name.Variable.Instance */\n",
       ".output_html .vm { color: #19177C } /* Name.Variable.Magic */\n",
       ".output_html .il { color: #666666 } /* Literal.Number.Integer.Long */</style><div class=\"highlight\"><pre><span></span><span class=\"kn\">import</span> <span class=\"nn\">pandas</span> <span class=\"k\">as</span> <span class=\"nn\">pd</span>\n",
       "<span class=\"kn\">from</span> <span class=\"nn\">pycaret.classification</span> <span class=\"kn\">import</span> <span class=\"n\">ClassificationExperiment</span>\n",
       "\n",
       "\n",
       "<span class=\"k\">def</span> <span class=\"nf\">load_data</span><span class=\"p\">(</span><span class=\"n\">filepath</span><span class=\"p\">):</span>\n",
       "<span class=\"w\">    </span><span class=\"sd\">&quot;&quot;&quot;</span>\n",
       "<span class=\"sd\">    Loads Churn data into a DataFrame from a string filepath.</span>\n",
       "<span class=\"sd\">    &quot;&quot;&quot;</span>\n",
       "    <span class=\"c1\">#df = pd.read_csv(filepath)</span>\n",
       "    <span class=\"n\">df</span> <span class=\"o\">=</span> <span class=\"n\">pd</span><span class=\"o\">.</span><span class=\"n\">read_csv</span><span class=\"p\">(</span><span class=\"n\">filepath</span><span class=\"p\">,</span> <span class=\"n\">index_col</span><span class=\"o\">=</span><span class=\"s1\">&#39;customerID&#39;</span><span class=\"p\">)</span>\n",
       "\n",
       "    <span class=\"c1\"># Add a column named &#39;Churn&#39; to the DataFrame</span>\n",
       "    <span class=\"k\">if</span> <span class=\"s1\">&#39;Churn&#39;</span> <span class=\"ow\">not</span> <span class=\"ow\">in</span> <span class=\"n\">df</span><span class=\"o\">.</span><span class=\"n\">columns</span><span class=\"p\">:</span>\n",
       "        <span class=\"n\">df</span><span class=\"p\">[</span><span class=\"s1\">&#39;Churn&#39;</span><span class=\"p\">]</span> <span class=\"o\">=</span> <span class=\"mi\">0</span>\n",
       "\n",
       "    <span class=\"k\">return</span> <span class=\"n\">df</span>\n",
       "    \n",
       "\n",
       "\n",
       "<span class=\"k\">def</span> <span class=\"nf\">make_predictions</span><span class=\"p\">(</span><span class=\"n\">df</span><span class=\"p\">):</span>\n",
       "<span class=\"w\">    </span><span class=\"sd\">&quot;&quot;&quot;</span>\n",
       "<span class=\"sd\">    Uses the pycaret best model to make predictions on data in the df dataframe.</span>\n",
       "<span class=\"sd\">    &quot;&quot;&quot;</span>\n",
       "    <span class=\"n\">classifier</span> <span class=\"o\">=</span> <span class=\"n\">ClassificationExperiment</span><span class=\"p\">()</span>\n",
       "    <span class=\"n\">model</span> <span class=\"o\">=</span> <span class=\"n\">classifier</span><span class=\"o\">.</span><span class=\"n\">load_model</span><span class=\"p\">(</span><span class=\"s1\">&#39;Churn_data_pycaret_model&#39;</span><span class=\"p\">)</span>\n",
       "    <span class=\"n\">predictions</span> <span class=\"o\">=</span> <span class=\"n\">classifier</span><span class=\"o\">.</span><span class=\"n\">predict_model</span><span class=\"p\">(</span><span class=\"n\">model</span><span class=\"p\">,</span> <span class=\"n\">data</span><span class=\"o\">=</span><span class=\"n\">df</span><span class=\"p\">)</span>\n",
       "    <span class=\"n\">predictions</span><span class=\"o\">.</span><span class=\"n\">rename</span><span class=\"p\">({</span><span class=\"s1\">&#39;Label&#39;</span><span class=\"p\">:</span> <span class=\"s1\">&#39;Churn&#39;</span><span class=\"p\">},</span> <span class=\"n\">axis</span><span class=\"o\">=</span><span class=\"mi\">1</span><span class=\"p\">,</span> <span class=\"n\">inplace</span><span class=\"o\">=</span><span class=\"kc\">True</span><span class=\"p\">)</span>\n",
       "    <span class=\"n\">predictions</span><span class=\"p\">[</span><span class=\"s1\">&#39;Churn&#39;</span><span class=\"p\">]</span><span class=\"o\">.</span><span class=\"n\">replace</span><span class=\"p\">({</span><span class=\"mi\">1</span><span class=\"p\">:</span> <span class=\"s1\">&#39;Churn&#39;</span><span class=\"p\">,</span> <span class=\"mi\">0</span><span class=\"p\">:</span> <span class=\"s1\">&#39;No Churn&#39;</span><span class=\"p\">},</span> <span class=\"n\">inplace</span><span class=\"o\">=</span><span class=\"kc\">True</span><span class=\"p\">)</span>\n",
       "    <span class=\"k\">return</span> <span class=\"n\">predictions</span><span class=\"p\">[</span><span class=\"s1\">&#39;Churn&#39;</span><span class=\"p\">]</span>\n",
       "\n",
       "\n",
       "<span class=\"k\">if</span> <span class=\"vm\">__name__</span> <span class=\"o\">==</span> <span class=\"s2\">&quot;__main__&quot;</span><span class=\"p\">:</span>\n",
       "    <span class=\"n\">df</span> <span class=\"o\">=</span> <span class=\"n\">load_data</span><span class=\"p\">(</span><span class=\"s1\">&#39;C://Users//cliff//Downloads//prepped_new_churn_data_unmodified.csv&#39;</span><span class=\"p\">)</span>\n",
       "\n",
       "    \n",
       "    <span class=\"n\">predictions</span> <span class=\"o\">=</span> <span class=\"n\">make_predictions</span><span class=\"p\">(</span><span class=\"n\">df</span><span class=\"p\">)</span>\n",
       "    <span class=\"nb\">print</span><span class=\"p\">(</span><span class=\"s1\">&#39;predictions:&#39;</span><span class=\"p\">)</span>\n",
       "    <span class=\"nb\">print</span><span class=\"p\">(</span><span class=\"n\">predictions</span><span class=\"p\">)</span>\n",
       "</pre></div>\n"
      ],
      "text/latex": [
       "\\begin{Verbatim}[commandchars=\\\\\\{\\}]\n",
       "\\PY{k+kn}{import} \\PY{n+nn}{pandas} \\PY{k}{as} \\PY{n+nn}{pd}\n",
       "\\PY{k+kn}{from} \\PY{n+nn}{pycaret}\\PY{n+nn}{.}\\PY{n+nn}{classification} \\PY{k+kn}{import} \\PY{n}{ClassificationExperiment}\n",
       "\n",
       "\n",
       "\\PY{k}{def} \\PY{n+nf}{load\\PYZus{}data}\\PY{p}{(}\\PY{n}{filepath}\\PY{p}{)}\\PY{p}{:}\n",
       "\\PY{+w}{    }\\PY{l+s+sd}{\\PYZdq{}\\PYZdq{}\\PYZdq{}}\n",
       "\\PY{l+s+sd}{    Loads Churn data into a DataFrame from a string filepath.}\n",
       "\\PY{l+s+sd}{    \\PYZdq{}\\PYZdq{}\\PYZdq{}}\n",
       "    \\PY{c+c1}{\\PYZsh{}df = pd.read\\PYZus{}csv(filepath)}\n",
       "    \\PY{n}{df} \\PY{o}{=} \\PY{n}{pd}\\PY{o}{.}\\PY{n}{read\\PYZus{}csv}\\PY{p}{(}\\PY{n}{filepath}\\PY{p}{,} \\PY{n}{index\\PYZus{}col}\\PY{o}{=}\\PY{l+s+s1}{\\PYZsq{}}\\PY{l+s+s1}{customerID}\\PY{l+s+s1}{\\PYZsq{}}\\PY{p}{)}\n",
       "\n",
       "    \\PY{c+c1}{\\PYZsh{} Add a column named \\PYZsq{}Churn\\PYZsq{} to the DataFrame}\n",
       "    \\PY{k}{if} \\PY{l+s+s1}{\\PYZsq{}}\\PY{l+s+s1}{Churn}\\PY{l+s+s1}{\\PYZsq{}} \\PY{o+ow}{not} \\PY{o+ow}{in} \\PY{n}{df}\\PY{o}{.}\\PY{n}{columns}\\PY{p}{:}\n",
       "        \\PY{n}{df}\\PY{p}{[}\\PY{l+s+s1}{\\PYZsq{}}\\PY{l+s+s1}{Churn}\\PY{l+s+s1}{\\PYZsq{}}\\PY{p}{]} \\PY{o}{=} \\PY{l+m+mi}{0}\n",
       "\n",
       "    \\PY{k}{return} \\PY{n}{df}\n",
       "    \n",
       "\n",
       "\n",
       "\\PY{k}{def} \\PY{n+nf}{make\\PYZus{}predictions}\\PY{p}{(}\\PY{n}{df}\\PY{p}{)}\\PY{p}{:}\n",
       "\\PY{+w}{    }\\PY{l+s+sd}{\\PYZdq{}\\PYZdq{}\\PYZdq{}}\n",
       "\\PY{l+s+sd}{    Uses the pycaret best model to make predictions on data in the df dataframe.}\n",
       "\\PY{l+s+sd}{    \\PYZdq{}\\PYZdq{}\\PYZdq{}}\n",
       "    \\PY{n}{classifier} \\PY{o}{=} \\PY{n}{ClassificationExperiment}\\PY{p}{(}\\PY{p}{)}\n",
       "    \\PY{n}{model} \\PY{o}{=} \\PY{n}{classifier}\\PY{o}{.}\\PY{n}{load\\PYZus{}model}\\PY{p}{(}\\PY{l+s+s1}{\\PYZsq{}}\\PY{l+s+s1}{Churn\\PYZus{}data\\PYZus{}pycaret\\PYZus{}model}\\PY{l+s+s1}{\\PYZsq{}}\\PY{p}{)}\n",
       "    \\PY{n}{predictions} \\PY{o}{=} \\PY{n}{classifier}\\PY{o}{.}\\PY{n}{predict\\PYZus{}model}\\PY{p}{(}\\PY{n}{model}\\PY{p}{,} \\PY{n}{data}\\PY{o}{=}\\PY{n}{df}\\PY{p}{)}\n",
       "    \\PY{n}{predictions}\\PY{o}{.}\\PY{n}{rename}\\PY{p}{(}\\PY{p}{\\PYZob{}}\\PY{l+s+s1}{\\PYZsq{}}\\PY{l+s+s1}{Label}\\PY{l+s+s1}{\\PYZsq{}}\\PY{p}{:} \\PY{l+s+s1}{\\PYZsq{}}\\PY{l+s+s1}{Churn}\\PY{l+s+s1}{\\PYZsq{}}\\PY{p}{\\PYZcb{}}\\PY{p}{,} \\PY{n}{axis}\\PY{o}{=}\\PY{l+m+mi}{1}\\PY{p}{,} \\PY{n}{inplace}\\PY{o}{=}\\PY{k+kc}{True}\\PY{p}{)}\n",
       "    \\PY{n}{predictions}\\PY{p}{[}\\PY{l+s+s1}{\\PYZsq{}}\\PY{l+s+s1}{Churn}\\PY{l+s+s1}{\\PYZsq{}}\\PY{p}{]}\\PY{o}{.}\\PY{n}{replace}\\PY{p}{(}\\PY{p}{\\PYZob{}}\\PY{l+m+mi}{1}\\PY{p}{:} \\PY{l+s+s1}{\\PYZsq{}}\\PY{l+s+s1}{Churn}\\PY{l+s+s1}{\\PYZsq{}}\\PY{p}{,} \\PY{l+m+mi}{0}\\PY{p}{:} \\PY{l+s+s1}{\\PYZsq{}}\\PY{l+s+s1}{No Churn}\\PY{l+s+s1}{\\PYZsq{}}\\PY{p}{\\PYZcb{}}\\PY{p}{,} \\PY{n}{inplace}\\PY{o}{=}\\PY{k+kc}{True}\\PY{p}{)}\n",
       "    \\PY{k}{return} \\PY{n}{predictions}\\PY{p}{[}\\PY{l+s+s1}{\\PYZsq{}}\\PY{l+s+s1}{Churn}\\PY{l+s+s1}{\\PYZsq{}}\\PY{p}{]}\n",
       "\n",
       "\n",
       "\\PY{k}{if} \\PY{n+nv+vm}{\\PYZus{}\\PYZus{}name\\PYZus{}\\PYZus{}} \\PY{o}{==} \\PY{l+s+s2}{\\PYZdq{}}\\PY{l+s+s2}{\\PYZus{}\\PYZus{}main\\PYZus{}\\PYZus{}}\\PY{l+s+s2}{\\PYZdq{}}\\PY{p}{:}\n",
       "    \\PY{n}{df} \\PY{o}{=} \\PY{n}{load\\PYZus{}data}\\PY{p}{(}\\PY{l+s+s1}{\\PYZsq{}}\\PY{l+s+s1}{C://Users//cliff//Downloads//prepped\\PYZus{}new\\PYZus{}churn\\PYZus{}data\\PYZus{}unmodified.csv}\\PY{l+s+s1}{\\PYZsq{}}\\PY{p}{)}\n",
       "\n",
       "    \n",
       "    \\PY{n}{predictions} \\PY{o}{=} \\PY{n}{make\\PYZus{}predictions}\\PY{p}{(}\\PY{n}{df}\\PY{p}{)}\n",
       "    \\PY{n+nb}{print}\\PY{p}{(}\\PY{l+s+s1}{\\PYZsq{}}\\PY{l+s+s1}{predictions:}\\PY{l+s+s1}{\\PYZsq{}}\\PY{p}{)}\n",
       "    \\PY{n+nb}{print}\\PY{p}{(}\\PY{n}{predictions}\\PY{p}{)}\n",
       "\\end{Verbatim}\n"
      ],
      "text/plain": [
       "import pandas as pd\n",
       "from pycaret.classification import ClassificationExperiment\n",
       "\n",
       "\n",
       "def load_data(filepath):\n",
       "    \"\"\"\n",
       "    Loads Churn data into a DataFrame from a string filepath.\n",
       "    \"\"\"\n",
       "    #df = pd.read_csv(filepath)\n",
       "    df = pd.read_csv(filepath, index_col='customerID')\n",
       "\n",
       "    # Add a column named 'Churn' to the DataFrame\n",
       "    if 'Churn' not in df.columns:\n",
       "        df['Churn'] = 0\n",
       "\n",
       "    return df\n",
       "    \n",
       "\n",
       "\n",
       "def make_predictions(df):\n",
       "    \"\"\"\n",
       "    Uses the pycaret best model to make predictions on data in the df dataframe.\n",
       "    \"\"\"\n",
       "    classifier = ClassificationExperiment()\n",
       "    model = classifier.load_model('Churn_data_pycaret_model')\n",
       "    predictions = classifier.predict_model(model, data=df)\n",
       "    predictions.rename({'Label': 'Churn'}, axis=1, inplace=True)\n",
       "    predictions['Churn'].replace({1: 'Churn', 0: 'No Churn'}, inplace=True)\n",
       "    return predictions['Churn']\n",
       "\n",
       "\n",
       "if __name__ == \"__main__\":\n",
       "    df = load_data('C://Users//cliff//Downloads//prepped_new_churn_data_unmodified.csv')\n",
       "\n",
       "    \n",
       "    predictions = make_predictions(df)\n",
       "    print('predictions:')\n",
       "    print(predictions)"
      ]
     },
     "execution_count": 27,
     "metadata": {},
     "output_type": "execute_result"
    }
   ],
   "source": [
    "from IPython.display import Code\n",
    "\n",
    "Code('Predict_Churn.py')"
   ]
  },
  {
   "cell_type": "markdown",
   "id": "26e5c8f8",
   "metadata": {},
   "source": [
    "Running the New unmodified churn data through the pipeline and model.  Predictions are that all 5 customers will not churn.  I had alot of problems with the Predict_Churn.py expecting a column called 'Churn' or 'Label' however if I added those manually to the CSV file that crashed it as well.  I finally had to add a line to the load_data function that if it did not find a 'Churn' column in the csv file to add one there and that seemed to work.  I also attempted to add a fancy Tkinter GUI since I had been working on those at work all week but I could not get it to work correctly so in the interest of time I scrapped that idea.  "
   ]
  },
  {
   "cell_type": "code",
   "execution_count": 29,
   "id": "b1e57a5a",
   "metadata": {},
   "outputs": [
    {
     "name": "stdout",
     "output_type": "stream",
     "text": [
      "Transformation Pipeline and Model Successfully Loaded\n",
      "predictions:\n",
      "customerID\n",
      "9305-CKSKC    No Churn\n",
      "1452-KNGVK    No Churn\n",
      "6723-OKKJM    No Churn\n",
      "7832-POPKP    No Churn\n",
      "6348-TACGU    No Churn\n",
      "Name: Churn, dtype: object\n"
     ]
    }
   ],
   "source": [
    "%run Predict_Churn.py"
   ]
  },
  {
   "cell_type": "markdown",
   "id": "c49db562",
   "metadata": {},
   "source": [
    "# Summary"
   ]
  },
  {
   "cell_type": "markdown",
   "id": "9533a1cd",
   "metadata": {},
   "source": [
    "Using the previous weeks churn data I was able to run multiple ML models using the PYcaret module.  I was then able to compare the output of those models and found the best accuracy score was from the Logistic Regression model with a similar value to previous findings.  I then chose to use the AUC value as our Churn predictor as the best model for AUC was found to be Gradient Boosting Classifier with a value of 84%.  Next, I plotted the ROC curve and the confusion matrix generated then made some preliminary predictions using the model chosen.  Lastly, I stored the developed model into a module that can be easily accessed by using Python code to make predictions in the future."
   ]
  }
 ],
 "metadata": {
  "kernelspec": {
   "display_name": "Python 3 (ipykernel)",
   "language": "python",
   "name": "python3"
  },
  "language_info": {
   "codemirror_mode": {
    "name": "ipython",
    "version": 3
   },
   "file_extension": ".py",
   "mimetype": "text/x-python",
   "name": "python",
   "nbconvert_exporter": "python",
   "pygments_lexer": "ipython3",
   "version": "3.11.4"
  }
 },
 "nbformat": 4,
 "nbformat_minor": 5
}
